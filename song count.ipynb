{
 "cells": [
  {
   "cell_type": "code",
   "execution_count": 5,
   "metadata": {},
   "outputs": [
    {
     "name": "stdout",
     "output_type": "stream",
     "text": [
      "Requirement already satisfied: mrjob in c:\\users\\user\\anaconda3\\lib\\site-packages\n",
      "Requirement already satisfied: PyYAML>=3.10 in c:\\users\\user\\anaconda3\\lib\\site-packages (from mrjob)\n"
     ]
    },
    {
     "name": "stderr",
     "output_type": "stream",
     "text": [
      "You are using pip version 9.0.1, however version 19.3.1 is available.\n",
      "You should consider upgrading via the 'python -m pip install --upgrade pip' command.\n"
     ]
    }
   ],
   "source": [
    "!pip install mrjob"
   ]
  },
  {
   "cell_type": "code",
   "execution_count": 1,
   "metadata": {},
   "outputs": [
    {
     "name": "stdout",
     "output_type": "stream",
     "text": [
      "Overwriting wordcount.py\n"
     ]
    }
   ],
   "source": [
    "%%file wordcount.py\n",
    "# %%file is an Ipython magic function that saves the code cell as a file\n",
    "import mrjob\n",
    "from mrjob.job import MRJob\n",
    "class MRsongCount(MRJob):\n",
    "    def mapper(self,_,song):\n",
    "        yield(song,1)\n",
    "        \n",
    "    def reducer(self,key,value):\n",
    "        yield(key,sum(value))\n",
    "\n",
    "if __name__ == \"__main__\":\n",
    "    MRsongCount.run()\n",
    " "
   ]
  },
  {
   "cell_type": "code",
   "execution_count": 2,
   "metadata": {},
   "outputs": [
    {
     "name": "stdout",
     "output_type": "stream",
     "text": [
      "\"Broken Networks\"\t510\n",
      "\"Data House Rock\"\t828\n",
      "\"Deep Dreams\"\t1131\n"
     ]
    },
    {
     "name": "stderr",
     "output_type": "stream",
     "text": [
      "No configs found; falling back on auto-configuration\n",
      "No configs specified for inline runner\n",
      "Creating temp directory C:\\Users\\User\\AppData\\Local\\Temp\\wordcount.User.20200102.045201.650358\n",
      "Running step 1 of 1...\n",
      "job output is in C:\\Users\\User\\AppData\\Local\\Temp\\wordcount.User.20200102.045201.650358\\output\n",
      "Streaming final output from C:\\Users\\User\\AppData\\Local\\Temp\\wordcount.User.20200102.045201.650358\\output...\n",
      "Removing temp directory C:\\Users\\User\\AppData\\Local\\Temp\\wordcount.User.20200102.045201.650358...\n"
     ]
    }
   ],
   "source": [
    "! python wordcount.py songplays.txt "
   ]
  }
 ],
 "metadata": {
  "kernelspec": {
   "display_name": "Python 3",
   "language": "python",
   "name": "python3"
  },
  "language_info": {
   "codemirror_mode": {
    "name": "ipython",
    "version": 3
   },
   "file_extension": ".py",
   "mimetype": "text/x-python",
   "name": "python",
   "nbconvert_exporter": "python",
   "pygments_lexer": "ipython3",
   "version": "3.6.0"
  }
 },
 "nbformat": 4,
 "nbformat_minor": 2
}
