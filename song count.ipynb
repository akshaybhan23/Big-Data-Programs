{
 "cells": [
  {
   "cell_type": "code",
   "execution_count": 2,
   "metadata": {},
   "outputs": [
    {
     "name": "stdout",
     "output_type": "stream",
     "text": [
      "Writing wordcount.py\n"
     ]
    }
   ],
   "source": []
  },
  {
   "cell_type": "code",
   "execution_count": 5,
   "metadata": {},
   "outputs": [
    {
     "name": "stdout",
     "output_type": "stream",
     "text": [
      "Requirement already satisfied: mrjob in c:\\users\\user\\anaconda3\\lib\\site-packages\n",
      "Requirement already satisfied: PyYAML>=3.10 in c:\\users\\user\\anaconda3\\lib\\site-packages (from mrjob)\n"
     ]
    },
    {
     "name": "stderr",
     "output_type": "stream",
     "text": [
      "You are using pip version 9.0.1, however version 19.3.1 is available.\n",
      "You should consider upgrading via the 'python -m pip install --upgrade pip' command.\n"
     ]
    }
   ],
   "source": [
    "!pip install mrjob\n"
   ]
  },
  {
   "cell_type": "code",
   "execution_count": 1,
   "metadata": {},
   "outputs": [
    {
     "name": "stdout",
     "output_type": "stream",
     "text": [
      "Writing wordcount.py\n"
     ]
    }
   ],
   "source": [
    "%%file wordcount.py\n",
    "# %%file is an Ipython magic function that saves the code cell as a file\n",
    "import mrjob\n",
    "from mrjob.job import MRJob\n",
    "class MRsongCount(MRJob):\n",
    "    def mapper(self,_,song):\n",
    "        yield(song,1)\n",
    "        \n",
    "    def reducer(self,key,value):\n",
    "        yield(key,sum(value))\n",
    "\n",
    "if __name__ == \"__main__\":\n",
    "    MRsongCount.run()\n",
    " "
   ]
  },
  {
   "cell_type": "code",
   "execution_count": 2,
   "metadata": {},
   "outputs": [
    {
     "name": "stderr",
     "output_type": "stream",
     "text": [
      "No configs found; falling back on auto-configuration\n",
      "No configs specified for inline runner\n",
      "Traceback (most recent call last):\n",
      "  File \"wordcount.py\", line 12, in <module>\n",
      "    MRsongCount.run()\n",
      "  File \"C:\\Users\\User\\Anaconda3\\lib\\site-packages\\mrjob\\job.py\", line 616, in run\n",
      "    cls().execute()\n",
      "  File \"C:\\Users\\User\\Anaconda3\\lib\\site-packages\\mrjob\\job.py\", line 687, in execute\n",
      "    self.run_job()\n",
      "  File \"C:\\Users\\User\\Anaconda3\\lib\\site-packages\\mrjob\\job.py\", line 636, in run_job\n",
      "    runner.run()\n",
      "  File \"C:\\Users\\User\\Anaconda3\\lib\\site-packages\\mrjob\\runner.py\", line 494, in run\n",
      "    self._check_input_paths()\n",
      "  File \"C:\\Users\\User\\Anaconda3\\lib\\site-packages\\mrjob\\runner.py\", line 1121, in _check_input_paths\n",
      "    self._check_input_path(path)\n",
      "  File \"C:\\Users\\User\\Anaconda3\\lib\\site-packages\\mrjob\\runner.py\", line 1135, in _check_input_path\n",
      "    'Input path %s does not exist!' % (path,))\n",
      "OSError: Input path songplays.txt does not exist!\n"
     ]
    }
   ],
   "source": [
    "! python wordcount.py songplays.txt > ab.txt "
   ]
  }
 ],
 "metadata": {
  "kernelspec": {
   "display_name": "Python 3",
   "language": "python",
   "name": "python3"
  },
  "language_info": {
   "codemirror_mode": {
    "name": "ipython",
    "version": 3
   },
   "file_extension": ".py",
   "mimetype": "text/x-python",
   "name": "python",
   "nbconvert_exporter": "python",
   "pygments_lexer": "ipython3",
   "version": "3.6.0"
  }
 },
 "nbformat": 4,
 "nbformat_minor": 2
}
